{
 "cells": [
  {
   "cell_type": "markdown",
   "id": "a676373f-3eb7-4d5a-936e-583fc20e518d",
   "metadata": {},
   "source": [
    "Experiment 9 Sentiment Analysis"
   ]
  },
  {
   "cell_type": "code",
   "execution_count": 2,
   "id": "5de36fba-8841-4541-8d58-bb2f8c4d325c",
   "metadata": {},
   "outputs": [],
   "source": [
    "import nltk\n",
    "from nltk.corpus import movie_reviews\n",
    "from nltk.classify import NaiveBayesClassifier\n",
    "from nltk.classify.util import accuracy"
   ]
  },
  {
   "cell_type": "code",
   "execution_count": 4,
   "id": "cc3a47e9-217f-4e55-b788-d9f033f739ee",
   "metadata": {},
   "outputs": [
    {
     "name": "stderr",
     "output_type": "stream",
     "text": [
      "[nltk_data] Downloading package movie_reviews to\n",
      "[nltk_data]     C:\\Users\\admin\\AppData\\Roaming\\nltk_data...\n",
      "[nltk_data]   Unzipping corpora\\movie_reviews.zip.\n"
     ]
    },
    {
     "data": {
      "text/plain": [
       "True"
      ]
     },
     "execution_count": 4,
     "metadata": {},
     "output_type": "execute_result"
    }
   ],
   "source": [
    "# Download the movie reviews corpus\n",
    "nltk.download('movie_reviews')"
   ]
  },
  {
   "cell_type": "code",
   "execution_count": 18,
   "id": "4a895e06-3e77-49c5-992f-164cafb31a09",
   "metadata": {},
   "outputs": [
    {
     "name": "stderr",
     "output_type": "stream",
     "text": [
      "[nltk_data] Downloading package punkt_tab to\n",
      "[nltk_data]     C:\\Users\\admin\\AppData\\Roaming\\nltk_data...\n",
      "[nltk_data]   Unzipping tokenizers\\punkt_tab.zip.\n"
     ]
    },
    {
     "data": {
      "text/plain": [
       "True"
      ]
     },
     "execution_count": 18,
     "metadata": {},
     "output_type": "execute_result"
    }
   ],
   "source": [
    "nltk.download('punkt_tab')"
   ]
  },
  {
   "cell_type": "code",
   "execution_count": 6,
   "id": "1785bda4-ae1b-4d15-a3d3-568dbdbd33b2",
   "metadata": {},
   "outputs": [],
   "source": [
    "# Define feature extractor function\n",
    "def extract_features(words):\n",
    "    return dict([(word, True) for word in words])"
   ]
  },
  {
   "cell_type": "code",
   "execution_count": 8,
   "id": "2dd93dbc-c55f-4cf5-9877-36b3e77245d9",
   "metadata": {},
   "outputs": [],
   "source": [
    "# Load positive and negative movie reviews\n",
    "positive_reviews = [(extract_features(movie_reviews.words(fileids=[f])), 'Positive') for f in\n",
    "movie_reviews.fileids('pos')]\n",
    "negative_reviews = [(extract_features(movie_reviews.words(fileids=[f])), 'Negative') for f\n",
    "in movie_reviews.fileids('neg')]"
   ]
  },
  {
   "cell_type": "code",
   "execution_count": 10,
   "id": "2dbfa866-e42d-4a6a-87a8-fa99c75df71a",
   "metadata": {},
   "outputs": [],
   "source": [
    "# Split the data into training and testing sets\n",
    "split = 800\n",
    "train_set = positive_reviews[:split] + negative_reviews[:split]\n",
    "test_set = positive_reviews[split:] + negative_reviews[split:]"
   ]
  },
  {
   "cell_type": "code",
   "execution_count": 12,
   "id": "112f3c0c-a286-4b3a-8bb5-b473d3e5e0ea",
   "metadata": {},
   "outputs": [],
   "source": [
    "# Train a Naive Bayes classifier\n",
    "classifier = NaiveBayesClassifier.train(train_set)"
   ]
  },
  {
   "cell_type": "code",
   "execution_count": 14,
   "id": "2d06ee70-b0e3-44f4-a30e-f1477eee2d9a",
   "metadata": {},
   "outputs": [
    {
     "name": "stdout",
     "output_type": "stream",
     "text": [
      "Accuracy: 0.735\n"
     ]
    }
   ],
   "source": [
    "# Evaluate the classifier\n",
    "print(\"Accuracy:\", accuracy(classifier, test_set))"
   ]
  },
  {
   "cell_type": "code",
   "execution_count": 20,
   "id": "942b6688-3c90-4874-82a5-95f0055ad3d1",
   "metadata": {},
   "outputs": [
    {
     "name": "stdout",
     "output_type": "stream",
     "text": [
      "Sentiment: Positive\n"
     ]
    }
   ],
   "source": [
    "# Test the classifier with custom movie review\n",
    "review = \"The movie was fantastic! I loved every moment of it.\"\n",
    "words = nltk.word_tokenize(review)\n",
    "features = extract_features(words)\n",
    "print(\"Sentiment:\", classifier.classify(features))"
   ]
  },
  {
   "cell_type": "code",
   "execution_count": null,
   "id": "62974c12-33cd-4bae-b945-ec8b3f481daa",
   "metadata": {},
   "outputs": [],
   "source": []
  }
 ],
 "metadata": {
  "kernelspec": {
   "display_name": "Python [conda env:base] *",
   "language": "python",
   "name": "conda-base-py"
  },
  "language_info": {
   "codemirror_mode": {
    "name": "ipython",
    "version": 3
   },
   "file_extension": ".py",
   "mimetype": "text/x-python",
   "name": "python",
   "nbconvert_exporter": "python",
   "pygments_lexer": "ipython3",
   "version": "3.12.7"
  }
 },
 "nbformat": 4,
 "nbformat_minor": 5
}
