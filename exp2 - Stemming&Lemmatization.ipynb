{
 "cells": [
  {
   "cell_type": "code",
   "execution_count": 7,
   "metadata": {},
   "outputs": [
    {
     "name": "stderr",
     "output_type": "stream",
     "text": [
      "[nltk_data] Downloading package punkt to\n",
      "[nltk_data]     C:\\Users\\ishan\\AppData\\Roaming\\nltk_data...\n",
      "[nltk_data]   Package punkt is already up-to-date!\n",
      "[nltk_data] Downloading package wordnet to\n",
      "[nltk_data]     C:\\Users\\ishan\\AppData\\Roaming\\nltk_data...\n",
      "[nltk_data]   Package wordnet is already up-to-date!\n",
      "[nltk_data] Downloading package omw-1.4 to\n",
      "[nltk_data]     C:\\Users\\ishan\\AppData\\Roaming\\nltk_data...\n",
      "[nltk_data]   Package omw-1.4 is already up-to-date!\n",
      "[nltk_data] Downloading package stopwords to\n",
      "[nltk_data]     C:\\Users\\ishan\\AppData\\Roaming\\nltk_data...\n",
      "[nltk_data]   Package stopwords is already up-to-date!\n"
     ]
    },
    {
     "data": {
      "text/plain": [
       "True"
      ]
     },
     "execution_count": 7,
     "metadata": {},
     "output_type": "execute_result"
    }
   ],
   "source": [
    "import nltk\n",
    "from nltk.stem import PorterStemmer, WordNetLemmatizer, LancasterStemmer, RegexpStemmer, SnowballStemmer\n",
    "from nltk.corpus import stopwords\n",
    "\n",
    "# Download necessary NLTK data files\n",
    "nltk.download('punkt')\n",
    "nltk.download('wordnet')\n",
    "nltk.download('omw-1.4')\n",
    "nltk.download('stopwords')\n",
    "\n"
   ]
  },
  {
   "cell_type": "code",
   "execution_count": 11,
   "metadata": {},
   "outputs": [
    {
     "name": "stdout",
     "output_type": "stream",
     "text": [
      "Stemmed Words:\n",
      "['the', 'quick', 'brown', 'fox', 'are', 'jump', 'over', 'the', 'lazi', 'dog', '.', 'they', 'also', 'love', 'run', 'in', 'the', 'field', '.']\n",
      "\n",
      "Lemmatized Words:\n",
      "['The', 'quick', 'brown', 'fox', 'are', 'jumping', 'over', 'the', 'lazy', 'dog', '.', 'They', 'also', 'love', 'running', 'in', 'the', 'field', '.']\n",
      "\n",
      "\n",
      "Applying different stemmers : \n",
      "Porter Stemmer: ['run', 'cat', 'fish', 'troubl', 'connect', 'organ', 'truth', 'probabl']\n",
      "Lancaster Stemmer: ['run', 'cat', 'fish', 'troubl', 'connect', 'org', 'truth', 'prob']\n",
      "Regexp Stemmer: ['runn', 'cat', 'fish', 'trouble', 'connection', 'organization', 'truthful', 'probabilitie']\n",
      "Snowball Stemmer: ['run', 'cat', 'fish', 'troubl', 'connect', 'organ', 'truth', 'probabl']\n"
     ]
    }
   ],
   "source": [
    "# Sample text\n",
    "text = \"The quick brown foxes are jumping over the lazy dogs. They also love running in the fields.\"\n",
    "\n",
    "# Tokenize the text\n",
    "tokens = nltk.word_tokenize(text)\n",
    "\n",
    "# Initialize stemmer and lemmatizer\n",
    "stemmer = PorterStemmer()\n",
    "lemmatizer = WordNetLemmatizer()\n",
    "\n",
    "# Apply stemming\n",
    "stemmed_words = [stemmer.stem(word) for word in tokens]\n",
    "print(\"Stemmed Words:\")\n",
    "print(stemmed_words)\n",
    "print()\n",
    "\n",
    "# Apply lemmatization\n",
    "lemmatized_words = [lemmatizer.lemmatize(word) for word in tokens]\n",
    "print(\"Lemmatized Words:\")\n",
    "print(lemmatized_words)\n",
    "print()\n",
    "\n",
    "# Initialize different stemmers\n",
    "porter = PorterStemmer()\n",
    "lancaster = LancasterStemmer()\n",
    "regexp = RegexpStemmer('ing$|s$|ed$', min=4)\n",
    "snowball = SnowballStemmer('english')\n",
    "\n",
    "# Sample words\n",
    "words = ['running', 'cats', 'fishing', 'trouble', 'connection', 'organization', 'truthful', 'probabilities']\n",
    "\n",
    "# Apply different stemmers\n",
    "porter_stemmed = [porter.stem(word) for word in words]\n",
    "lancaster_stemmed = [lancaster.stem(word) for word in words]\n",
    "regexp_stemmed = [regexp.stem(word) for word in words]\n",
    "snowball_stemmed = [snowball.stem(word) for word in words]\n",
    "\n",
    "# Print results\n",
    "print(\"\\nApplying different stemmers : \\nPorter Stemmer:\", porter_stemmed)\n",
    "print(\"Lancaster Stemmer:\", lancaster_stemmed)\n",
    "print(\"Regexp Stemmer:\", regexp_stemmed)\n",
    "print(\"Snowball Stemmer:\", snowball_stemmed)"
   ]
  },
  {
   "cell_type": "code",
   "execution_count": null,
   "metadata": {},
   "outputs": [],
   "source": []
  }
 ],
 "metadata": {
  "kernelspec": {
   "display_name": "Python 3",
   "language": "python",
   "name": "python3"
  },
  "language_info": {
   "codemirror_mode": {
    "name": "ipython",
    "version": 3
   },
   "file_extension": ".py",
   "mimetype": "text/x-python",
   "name": "python",
   "nbconvert_exporter": "python",
   "pygments_lexer": "ipython3",
   "version": "3.12.8"
  }
 },
 "nbformat": 4,
 "nbformat_minor": 2
}
