{
 "cells": [
  {
   "cell_type": "code",
   "execution_count": null,
   "metadata": {},
   "outputs": [],
   "source": [
    "import nltk\n",
    "from nltk.corpus import stopwords\n",
    "from nltk.tokenize import word_tokenize\n",
    "\n",
    "\n",
    "def removeStopwords(text, lang):\n",
    "    words = word_tokenize(text)\n",
    "    stop_words = set(stopwords.words(lang))\n",
    "    filtered = [word for word in words if word.lower() not in stop_words]\n",
    "    cleaned = ' '.join(filtered)\n",
    "    return cleaned \n",
    "\n"
   ]
  },
  {
   "cell_type": "code",
   "execution_count": 2,
   "metadata": {},
   "outputs": [],
   "source": [
    "para = \"Hello there, my name is Sarthak Dhiman and this is my lab mst of Natural Language processing, currently i am in Punjab and I am in my university\""
   ]
  },
  {
   "cell_type": "code",
   "execution_count": 3,
   "metadata": {},
   "outputs": [
    {
     "name": "stdout",
     "output_type": "stream",
     "text": [
      "Hello , name Sarthak Dhiman lab mst Natural Language processing , currently Punjab university\n"
     ]
    }
   ],
   "source": [
    "para_res = removeStopwords(para,'english')\n",
    "print(para_res)"
   ]
  },
  {
   "cell_type": "code",
   "execution_count": null,
   "metadata": {},
   "outputs": [
    {
     "name": "stdout",
     "output_type": "stream",
     "text": [
      "Hello there , my Sarthak Dhiman my lab mst of Natural Language processing , currently my university\n"
     ]
    }
   ],
   "source": [
    "\n",
    "\n",
    "manual_stopwords = {\n",
    "    'english': {'this', 'is', 'an', 'in', 'the', 'a' , '.', 'i'}\n",
    "}\n",
    "\n",
    "def remove_stopwords(text, language):\n",
    "    words = word_tokenize(text)\n",
    "    stop_words = manual_stopwords.get(language, set())\n",
    "    filtered_words = [word for word in words if word.lower() not in stop_words]\n",
    "    cleaned_text = ' '.join(filtered_words)\n",
    "    return cleaned_text\n",
    "\n",
    "def add_stopwords(language, custom_stopwords):\n",
    "    stop_words = manual_stopwords.get(language, set())\n",
    "    stop_words.update(custom_stopwords)\n",
    "    manual_stopwords[language] = stop_words\n",
    "    return stop_words\n",
    "\n",
    "custom_words = ['name','am','and','punjab']\n",
    "add_stopwords('english',custom_words)\n",
    "para_res2 = remove_stopwords(para,'english')\n",
    "print(para_res2)"
   ]
  },
  {
   "cell_type": "code",
   "execution_count": null,
   "metadata": {},
   "outputs": [],
   "source": []
  }
 ],
 "metadata": {
  "kernelspec": {
   "display_name": "Python 3",
   "language": "python",
   "name": "python3"
  },
  "language_info": {
   "codemirror_mode": {
    "name": "ipython",
    "version": 3
   },
   "file_extension": ".py",
   "mimetype": "text/x-python",
   "name": "python",
   "nbconvert_exporter": "python",
   "pygments_lexer": "ipython3",
   "version": "3.12.8"
  }
 },
 "nbformat": 4,
 "nbformat_minor": 2
}
