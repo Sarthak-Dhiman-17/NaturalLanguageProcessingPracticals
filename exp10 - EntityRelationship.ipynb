{
 "cells": [
  {
   "cell_type": "code",
   "execution_count": null,
   "id": "38f65e76",
   "metadata": {},
   "outputs": [],
   "source": [
    "import nltk\n",
    "from collections import defaultdict\n",
    "import nltk\n",
    "nltk.download('maxent_ne_chunker_tab')\n",
    "\n",
    "# Step 1: Download required NLTK resources\n",
    "nltk.download('punkt')\n",
    "nltk.download('averaged_perceptron_tagger_eng')\n",
    "nltk.download('maxent_ne_chunker')\n",
    "nltk.download('words')\n",
    "\n",
    "# Step 2: Sample paragraph\n",
    "text = \"\"\"\n",
    "Satya Nadella, the CEO of Microsoft, unveiled a partnership with OpenAI to \n",
    "integrate advanced AI into Microsoft Office products. The announcement took \n",
    "place at the annual Build conference in Seattle, Washington. Meanwhile, Amazon \n",
    "is expanding its logistics network across Europe, with new centers opening in \n",
    "Paris and Madrid. The news was reported in March 2025 by The Wall Street Journal.\n",
    "\"\"\"\n",
    "\n",
    "# Step 3: Tokenize into sentences, then words, and tag parts of speech\n",
    "sentences = nltk.sent_tokenize(text)\n",
    "tokenized_sentences = [nltk.word_tokenize(sent) for sent in sentences]\n",
    "pos_tagged_sentences = [nltk.pos_tag(sent) for sent in tokenized_sentences]\n",
    "\n",
    "# Step 4: Apply Named Entity Recognition\n",
    "named_entities = [nltk.ne_chunk(tagged_sent) for tagged_sent in pos_tagged_sentences]\n",
    "\n",
    "# Step 5: Extract and categorize named entities\n",
    "entity_dict = defaultdict(list)\n",
    "\n",
    "for tree in named_entities:\n",
    "    for subtree in tree:\n",
    "        if hasattr(subtree, 'label'):\n",
    "            entity_name = \" \".join(token for token, pos in subtree)\n",
    "            entity_type = subtree.label()\n",
    "            entity_dict[entity_type].append(entity_name)\n",
    "\n",
    "# Step 6: Display categorized named entities\n",
    "print(\"\\n=== Named Entities by Type ===\\n\")\n",
    "for entity_type, names in entity_dict.items():\n",
    "    print(f\"{entity_type}:\")\n",
    "    for name in set(names):  # Use set to remove duplicates\n",
    "        print(f\"  - {name}\")\n",
    "    print()\n"
   ]
  }
 ],
 "metadata": {
  "language_info": {
   "name": "python"
  }
 },
 "nbformat": 4,
 "nbformat_minor": 5
}
