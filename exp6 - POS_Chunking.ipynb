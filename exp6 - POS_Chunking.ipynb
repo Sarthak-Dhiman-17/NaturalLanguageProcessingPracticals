{
 "cells": [
  {
   "cell_type": "code",
   "execution_count": null,
   "metadata": {},
   "outputs": [
    {
     "name": "stderr",
     "output_type": "stream",
     "text": [
      "[nltk_data] Downloading package punkt to\n",
      "[nltk_data]     C:\\Users\\ishan\\AppData\\Roaming\\nltk_data...\n",
      "[nltk_data]   Package punkt is already up-to-date!\n",
      "[nltk_data] Downloading package averaged_perceptron_tagger to\n",
      "[nltk_data]     C:\\Users\\ishan\\AppData\\Roaming\\nltk_data...\n",
      "[nltk_data]   Package averaged_perceptron_tagger is already up-to-\n",
      "[nltk_data]       date!\n"
     ]
    },
    {
     "name": "stdout",
     "output_type": "stream",
     "text": [
      "PoS Tags: [('Hello', 'NN'), ('!', '.'), ('My', 'PRP$'), ('name', 'NN'), ('is', 'VBZ'), ('Priya', 'NNP'), ('and', 'CC'), ('I', 'PRP'), ('am', 'VBP'), ('a', 'DT'), ('student', 'NN')]\n"
     ]
    }
   ],
   "source": [
    "# Import necessary libraries\n",
    "import nltk\n",
    "from nltk import word_tokenize, pos_tag\n",
    "from nltk.chunk import RegexpParser\n",
    "\n",
    "# Download necessary resources\n",
    "nltk.download('punkt')\n",
    "nltk.download('averaged_perceptron_tagger')\n",
    "\n",
    "# Step 1: Input Text\n",
    "text = \"Hello! My name is Sarthak and I am a student \"\n",
    "\n",
    "# Step 2: Tokenize the text\n",
    "tokens = word_tokenize(text)\n",
    "\n",
    "# Step 3: Perform PoS tagging\n",
    "pos_tags = pos_tag(tokens)\n",
    "print(\"PoS Tags:\", pos_tags)\n",
    "\n",
    "# Step 4: Define chunking grammar rules\n",
    "grammar = \"\"\"\n",
    "  NP: {<DT>?<JJ>*<NN>}  # Noun Phrase\n",
    "  VP: {<VB.*><NP|PP|CLAUSE>+$} # Verb Phrase\n",
    "  PP: {<IN><NP>}  # Prepositional Phrase\n",
    "\"\"\"\n",
    "\n",
    "# Step 5: Apply chunking\n",
    "chunk_parser = RegexpParser(grammar)\n",
    "chunk_tree = chunk_parser.parse(pos_tags)\n",
    "\n",
    "# Step 6: Visualize the chunks\n",
    "chunk_tree.draw()"
   ]
  }
 ],
 "metadata": {
  "kernelspec": {
   "display_name": "Python 3",
   "language": "python",
   "name": "python3"
  },
  "language_info": {
   "codemirror_mode": {
    "name": "ipython",
    "version": 3
   },
   "file_extension": ".py",
   "mimetype": "text/x-python",
   "name": "python",
   "nbconvert_exporter": "python",
   "pygments_lexer": "ipython3",
   "version": "3.12.8"
  }
 },
 "nbformat": 4,
 "nbformat_minor": 2
}
